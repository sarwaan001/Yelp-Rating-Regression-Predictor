{
 "cells": [
  {
   "cell_type": "markdown",
   "metadata": {},
   "source": [
    "# Project: Yelp Rating Regression Predictor: Sarwaan Ansari\n",
    "\n",
    "This Project is to Demonstrate how to use multiple linear regressions in order to predict how many stars a restaurant will have. \n",
    "In this project we'll be working with a real dataset provided by Yelp. We have provided six files, listed below with a brief description:\n",
    "* `yelp_business.json`: establishment data regarding location and attributes for all businesses in the dataset\n",
    "* `yelp_review.json`: Yelp review metadata by business\n",
    "* `yelp_user.json`: user profile metadata by business\n",
    "* `yelp_checkin.json`: online checkin metadata by business\n",
    "* `yelp_tip.json`: tip metadata by business\n",
    "* `yelp_photo.json`: photo metadata by business\n",
    "\n",
    "For a more detailed explanation of the features in each `.json` file, see the accompanying [explanatory feature document](https://docs.google.com/document/d/1V6FjJpKspVBOOBs4E7fBfp_yzHn0--XJkC2uUtWuRgM/edit).\n"
   ]
  },
  {
   "cell_type": "markdown",
   "metadata": {},
   "source": [
    "## Load the Data"
   ]
  },
  {
   "cell_type": "code",
   "execution_count": 1,
   "metadata": {},
   "outputs": [],
   "source": [
    "import pandas as pd\n",
    "\n",
    "businesses = pd.read_json('yelp_business.json', lines = True)\n",
    "reviews = pd.read_json('yelp_review.json', lines = True)\n",
    "users = pd.read_json('yelp_user.json', lines = True)\n",
    "checkins = pd.read_json('yelp_checkin.json', lines = True)\n",
    "tips = pd.read_json('yelp_tip.json', lines = True)\n",
    "photos = pd.read_json('yelp_photo.json', lines = True)\n"
   ]
  },
  {
   "cell_type": "markdown",
   "metadata": {},
   "source": [
    "In order to more clearly see the information in our DataFrame, we can adjust the number of columns shown (`max_columns`) and the number of characters shown in a column (`max_colwidth`) with the below code:\n",
    "\n",
    "```python\n",
    "pd.options.display.max_columns = number_of_columns_to_display\n",
    "pd.options.display.max_colwidth = number_of_characters_to_display\n",
    "```"
   ]
  },
  {
   "cell_type": "code",
   "execution_count": 2,
   "metadata": {
    "ExecuteTime": {
     "end_time": "2018-09-14T14:51:21.351977Z",
     "start_time": "2018-09-14T14:51:21.349551Z"
    }
   },
   "outputs": [],
   "source": [
    "pd.options.display.max_columns = 60\n",
    "pd.options.display.max_colwidth = 500"
   ]
  },
  {
   "cell_type": "markdown",
   "metadata": {},
   "source": [
    "Inspect the first five rows of each DataFrame"
   ]
  },
  {
   "cell_type": "code",
   "execution_count": 3,
   "metadata": {
    "ExecuteTime": {
     "end_time": "2018-09-14T14:51:21.392763Z",
     "start_time": "2018-09-14T14:51:21.354525Z"
    },
    "scrolled": true
   },
   "outputs": [
    {
     "name": "stdout",
     "output_type": "stream",
     "text": [
      "               address  alcohol?  \\\n",
      "0    1314 44 Avenue NE         0   \n",
      "1                              0   \n",
      "2  1335 rue Beaubien E         1   \n",
      "3      211 W Monroe St         0   \n",
      "4  2005 Alyth Place SE         0   \n",
      "\n",
      "                                                                                                                                                                                                                                                                                                                                                                                                                                                                                                            attributes  \\\n",
      "0                                              {'BikeParking': 'False', 'BusinessAcceptsCreditCards': 'True', 'BusinessParking': '{'garage': False, 'street': True, 'validated': False, 'lot': False, 'valet': False}', 'GoodForKids': 'True', 'HasTV': 'True', 'NoiseLevel': 'average', 'OutdoorSeating': 'False', 'RestaurantsAttire': 'casual', 'RestaurantsDelivery': 'False', 'RestaurantsGoodForGroups': 'True', 'RestaurantsPriceRange2': '2', 'RestaurantsReservations': 'True', 'RestaurantsTakeOut': 'True'}   \n",
      "1  {'Alcohol': 'none', 'BikeParking': 'False', 'BusinessAcceptsCreditCards': 'True', 'BusinessParking': '{'garage': False, 'street': True, 'validated': False, 'lot': True, 'valet': False}', 'Caters': 'True', 'DogsAllowed': 'True', 'DriveThru': 'False', 'GoodForKids': 'True', 'GoodForMeal': '{'dessert': False, 'latenight': False, 'lunch': False, 'dinner': False, 'breakfast': False, 'brunch': False}', 'HasTV': 'False', 'OutdoorSeating': 'True', 'RestaurantsAttire': 'casual', 'RestaurantsDelivery'...   \n",
      "2  {'Alcohol': 'beer_and_wine', 'Ambience': '{'romantic': False, 'intimate': False, 'classy': False, 'hipster': False, 'touristy': False, 'trendy': False, 'upscale': False, 'casual': False}', 'BikeParking': 'True', 'BusinessAcceptsCreditCards': 'False', 'BusinessParking': '{'garage': False, 'street': False, 'validated': False, 'lot': False, 'valet': False}', 'Caters': 'False', 'GoodForKids': 'True', 'GoodForMeal': '{'dessert': False, 'latenight': False, 'lunch': False, 'dinner': False, 'breakfa...   \n",
      "3                                                                                                                                                                                                                                                                                                                                                                                                                                                                                                                 None   \n",
      "4                                                                                                                                                                                                                                                                                                                                                                                                                                                                               {'BusinessAcceptsCreditCards': 'True'}   \n",
      "\n",
      "              business_id  \\\n",
      "0  Apn5Q_b6Nz61Tq4XzPdf9A   \n",
      "1  AjEbIBw6ZFfln7ePHha9PA   \n",
      "2  O8S5hYJ1SMc8fA4QBtVujA   \n",
      "3  bFzdJJ3wp3PZssNEsyU23g   \n",
      "4  8USyCYqpScwiNEb58Bt6CA   \n",
      "\n",
      "                                                                                                              categories  \\\n",
      "0                                                            Tours, Breweries, Pizza, Restaurants, Food, Hotels & Travel   \n",
      "1  Chicken Wings, Burgers, Caterers, Street Vendors, Barbeque, Food Trucks, Food, Restaurants, Event Planning & Services   \n",
      "2                                                             Breakfast & Brunch, Restaurants, French, Sandwiches, Cafes   \n",
      "3                                                                                          Insurance, Financial Services   \n",
      "4                         Home & Garden, Nurseries & Gardening, Shopping, Local Services, Automotive, Electronics Repair   \n",
      "\n",
      "        city  good_for_kids  has_bike_parking  has_wifi  \\\n",
      "0    Calgary              1                 0         0   \n",
      "1  Henderson              1                 0         0   \n",
      "2   Montréal              1                 1         1   \n",
      "3    Phoenix              0                 0         0   \n",
      "4    Calgary              0                 0         0   \n",
      "\n",
      "                                                                                                                                                                       hours  \\\n",
      "0                         {'Monday': '8:30-17:0', 'Tuesday': '11:0-21:0', 'Wednesday': '11:0-21:0', 'Thursday': '11:0-21:0', 'Friday': '11:0-21:0', 'Saturday': '11:0-21:0'}   \n",
      "1                                                                                                    {'Friday': '17:0-23:0', 'Saturday': '17:0-23:0', 'Sunday': '17:0-23:0'}   \n",
      "2  {'Monday': '10:0-22:0', 'Tuesday': '10:0-22:0', 'Wednesday': '10:0-22:0', 'Thursday': '10:0-22:0', 'Friday': '10:0-22:0', 'Saturday': '10:0-22:0', 'Sunday': '10:0-22:0'}   \n",
      "3                                                                                                                                                                       None   \n",
      "4                                                       {'Monday': '8:0-17:0', 'Tuesday': '8:0-17:0', 'Wednesday': '8:0-17:0', 'Thursday': '8:0-17:0', 'Friday': '8:0-17:0'}   \n",
      "\n",
      "   is_open   latitude   longitude                  name  \\\n",
      "0        1  51.091813 -114.031675  Minhas Micro Brewery   \n",
      "1        0  35.960734 -114.939821   CK'S BBQ & Catering   \n",
      "2        0  45.540503  -73.599300         La Bastringue   \n",
      "3        1  33.449999 -112.076979       Geico Insurance   \n",
      "4        1  51.035591 -114.027366         Action Engine   \n",
      "\n",
      "                neighborhood postal_code  price_range  review_count  stars  \\\n",
      "0                                T2E 6L6            2            24    4.0   \n",
      "1                                  89002            2             3    4.5   \n",
      "2  Rosemont-La Petite-Patrie     H2G 1K7            2             5    4.0   \n",
      "3                                  85003            0             8    1.5   \n",
      "4                                T2H 0N5            0             4    2.0   \n",
      "\n",
      "  state  take_reservations  takes_credit_cards  \n",
      "0    AB                  1                   1  \n",
      "1    NV                  0                   1  \n",
      "2    QC                  1                   0  \n",
      "3    AZ                  0                   0  \n",
      "4    AB                  0                   1  \n"
     ]
    }
   ],
   "source": [
    "print(businesses.head())"
   ]
  },
  {
   "cell_type": "code",
   "execution_count": 4,
   "metadata": {
    "ExecuteTime": {
     "end_time": "2018-09-14T14:51:21.407101Z",
     "start_time": "2018-09-14T14:51:21.394695Z"
    }
   },
   "outputs": [
    {
     "name": "stdout",
     "output_type": "stream",
     "text": [
      "   average_review_age  average_review_length  average_review_sentiment  \\\n",
      "0          524.458333             466.208333                  0.808638   \n",
      "1         1199.589744             785.205128                  0.669126   \n",
      "2          717.851852             536.592593                  0.820837   \n",
      "3          751.750000             478.250000                  0.170925   \n",
      "4          978.727273             436.181818                  0.562264   \n",
      "\n",
      "              business_id  number_cool_votes  number_funny_votes  \\\n",
      "0  --1UhMGODdWsrMastO9DZw                 16                   1   \n",
      "1  --6MefnULPED_I942VcFNA                 32                  27   \n",
      "2  --7zmmkVg-IMGaXbuVd0SQ                 52                  29   \n",
      "3  --8LPVSo5i0Oo61X01sV9A                  0                   0   \n",
      "4  --9QQLMTbFzLJ_oT-ON3Xw                  4                   3   \n",
      "\n",
      "   number_useful_votes  \n",
      "0                   15  \n",
      "1                   53  \n",
      "2                   81  \n",
      "3                    9  \n",
      "4                    7  \n"
     ]
    }
   ],
   "source": [
    "print(reviews.head())"
   ]
  },
  {
   "cell_type": "code",
   "execution_count": 5,
   "metadata": {
    "ExecuteTime": {
     "end_time": "2018-09-14T14:51:21.419331Z",
     "start_time": "2018-09-14T14:51:21.409377Z"
    }
   },
   "outputs": [
    {
     "name": "stdout",
     "output_type": "stream",
     "text": [
      "   average_days_on_yelp  average_number_fans  average_number_friends  \\\n",
      "0           1789.750000             1.833333               18.791667   \n",
      "1           2039.948718            49.256410              214.564103   \n",
      "2           1992.796296            19.222222              126.185185   \n",
      "3           2095.750000             0.500000               25.250000   \n",
      "4           1804.636364             1.000000               52.454545   \n",
      "\n",
      "   average_number_years_elite  average_review_count             business_id  \n",
      "0                    0.833333             57.541667  --1UhMGODdWsrMastO9DZw  \n",
      "1                    1.769231            332.743590  --6MefnULPED_I942VcFNA  \n",
      "2                    1.814815            208.962963  --7zmmkVg-IMGaXbuVd0SQ  \n",
      "3                    0.000000              7.500000  --8LPVSo5i0Oo61X01sV9A  \n",
      "4                    0.090909             34.636364  --9QQLMTbFzLJ_oT-ON3Xw  \n"
     ]
    }
   ],
   "source": [
    "print(users.head())"
   ]
  },
  {
   "cell_type": "code",
   "execution_count": 6,
   "metadata": {
    "ExecuteTime": {
     "end_time": "2018-09-14T14:51:21.433534Z",
     "start_time": "2018-09-14T14:51:21.421393Z"
    },
    "scrolled": true
   },
   "outputs": [
    {
     "name": "stdout",
     "output_type": "stream",
     "text": [
      "              business_id  \\\n",
      "0  7KPBkxAOEtb3QeIL9PEErg   \n",
      "1  kREVIrSBbtqBhIYkTccQUg   \n",
      "2  tJRDll5yqpZwehenzE2cSg   \n",
      "3  tZccfdl6JNw-j5BKnCTIQQ   \n",
      "4  r1p7RAMzCV_6NPF0dNoR3g   \n",
      "\n",
      "                                                                                                                                                                                                                                                                                                                                                                                                                                                                                                                  time  \\\n",
      "0  {'Fri-0': 2, 'Sat-0': 1, 'Sun-0': 1, 'Wed-0': 2, 'Fri-1': 1, 'Sat-1': 3, 'Thu-1': 1, 'Wed-1': 1, 'Sat-2': 1, 'Sun-2': 2, 'Thu-2': 1, 'Wed-2': 1, 'Fri-3': 1, 'Sun-3': 3, 'Mon-4': 1, 'Thu-4': 1, 'Tue-4': 2, 'Wed-4': 2, 'Sun-6': 1, 'Wed-6': 1, 'Thu-7': 1, 'Fri-10': 3, 'Mon-10': 1, 'Sat-10': 3, 'Sun-10': 3, 'Tue-10': 2, 'Mon-11': 1, 'Thu-11': 1, 'Wed-11': 2, 'Mon-12': 1, 'Sat-12': 1, 'Tue-12': 1, 'Sat-13': 3, 'Thu-13': 1, 'Tue-13': 2, 'Wed-13': 3, 'Fri-14': 2, 'Mon-14': 1, 'Sat-14': 1, 'Sun-14':...   \n",
      "1                                                                                                                                                                                                                                                                                                                                                                                                                          {'Mon-13': 1, 'Thu-13': 1, 'Sat-16': 1, 'Wed-17': 1, 'Sun-19': 1, 'Thu-20': 1, 'Sat-21': 1}   \n",
      "2                                                                                                                                                                                                                                                                                                                                                                                                                                         {'Thu-0': 1, 'Mon-1': 1, 'Mon-12': 1, 'Sat-16': 1, 'Sun-22': 1, 'Fri-23': 1}   \n",
      "3                                                                                                                                                                                                                                                                                                                                                                                                                                                                              {'Sun-14': 1, 'Fri-18': 1, 'Mon-20': 1}   \n",
      "4                                                                                                                                                                                                                                                                                                                                                                                                                                                     {'Sat-3': 1, 'Sun-18': 1, 'Sat-21': 1, 'Sat-23': 1, 'Thu-23': 1}   \n",
      "\n",
      "   weekday_checkins  weekend_checkins  \n",
      "0                76                75  \n",
      "1                 4                 3  \n",
      "2                 3                 3  \n",
      "3                 1                 2  \n",
      "4                 1                 4  \n"
     ]
    }
   ],
   "source": [
    "print(checkins.head())"
   ]
  },
  {
   "cell_type": "code",
   "execution_count": 7,
   "metadata": {
    "ExecuteTime": {
     "end_time": "2018-09-14T14:51:21.445061Z",
     "start_time": "2018-09-14T14:51:21.435743Z"
    },
    "scrolled": true
   },
   "outputs": [
    {
     "name": "stdout",
     "output_type": "stream",
     "text": [
      "   average_tip_length             business_id  number_tips\n",
      "0           79.000000  --1UhMGODdWsrMastO9DZw            1\n",
      "1           49.857143  --6MefnULPED_I942VcFNA           14\n",
      "2           52.500000  --7zmmkVg-IMGaXbuVd0SQ           10\n",
      "3          136.500000  --9QQLMTbFzLJ_oT-ON3Xw            2\n",
      "4           68.064935  --9e1ONYQuAa-CB_Rrw7Tw          154\n"
     ]
    }
   ],
   "source": [
    "print(tips.head())"
   ]
  },
  {
   "cell_type": "code",
   "execution_count": 8,
   "metadata": {
    "ExecuteTime": {
     "end_time": "2018-09-14T14:51:21.455113Z",
     "start_time": "2018-09-14T14:51:21.446975Z"
    }
   },
   "outputs": [
    {
     "name": "stdout",
     "output_type": "stream",
     "text": [
      "   average_caption_length             business_id  number_pics\n",
      "0                0.000000  --1UhMGODdWsrMastO9DZw            1\n",
      "1               67.500000  --6MefnULPED_I942VcFNA            2\n",
      "2               30.426471  --9e1ONYQuAa-CB_Rrw7Tw          136\n",
      "3                0.000000  --DaPTJW3-tB1vP-PfdTEg            1\n",
      "4                5.500000  --FBCX-N37CMYDfs790Bnw            4\n"
     ]
    }
   ],
   "source": [
    "print(photos.head())"
   ]
  },
  {
   "cell_type": "markdown",
   "metadata": {},
   "source": [
    "Shapes and feature number of review:"
   ]
  },
  {
   "cell_type": "code",
   "execution_count": 9,
   "metadata": {
    "ExecuteTime": {
     "end_time": "2018-09-14T14:51:21.460856Z",
     "start_time": "2018-09-14T14:51:21.456994Z"
    }
   },
   "outputs": [
    {
     "name": "stdout",
     "output_type": "stream",
     "text": [
      "Number of businesses: \n",
      "188593\n",
      "Number of features in review: \n",
      "7\n",
      "Shapes\n",
      "(188593, 22)\n",
      "(188593, 7)\n"
     ]
    }
   ],
   "source": [
    "businesscount = len(businesses.groupby('business_id'))\n",
    "print(\"Number of businesses: \")\n",
    "print(businesscount)\n",
    "\n",
    "review_features = len(reviews.columns)\n",
    "print(\"Number of features in review: \")\n",
    "print(review_features)\n",
    "\n",
    "#Alternate method\n",
    "print(\"Shapes\")\n",
    "print(businesses.shape)\n",
    "print(reviews.shape)"
   ]
  },
  {
   "cell_type": "markdown",
   "metadata": {},
   "source": [
    "Range of values of Features in the user dataframe."
   ]
  },
  {
   "cell_type": "code",
   "execution_count": 10,
   "metadata": {
    "ExecuteTime": {
     "end_time": "2018-09-14T14:51:21.556908Z",
     "start_time": "2018-09-14T14:51:21.462876Z"
    }
   },
   "outputs": [
    {
     "name": "stdout",
     "output_type": "stream",
     "text": [
      "average_days_on_yelp: 76.0 - 4860.0\n",
      "average_number_fans: 0.0 - 1174.6666666667\n",
      "average_number_friends: 1.0 - 4219.0\n",
      "average_number_years_elite: 0.0 - 10.6666666667\n",
      "average_review_count: 0.6666666667000001 - 6335.0\n",
      "business_id: --1UhMGODdWsrMastO9DZw - zzzaIBwimxVej4tY6qFOUQ\n"
     ]
    }
   ],
   "source": [
    "for columns in users:\n",
    "    print(str(columns) + \": \" + str(min(list(users[columns]))) + \" - \" + str(max(list(users[columns])))) "
   ]
  },
  {
   "cell_type": "markdown",
   "metadata": {},
   "source": [
    "Example:\n",
    "What is the Yelp rating, or `stars`, of the establishment with `business_id` = `5EvUIR4IzCWUOm0PsUZXjA`."
   ]
  },
  {
   "cell_type": "code",
   "execution_count": 11,
   "metadata": {
    "ExecuteTime": {
     "end_time": "2018-09-14T14:51:21.598473Z",
     "start_time": "2018-09-14T14:51:21.559796Z"
    }
   },
   "outputs": [
    {
     "name": "stdout",
     "output_type": "stream",
     "text": [
      "30781    3.0\n",
      "Name: stars, dtype: float64\n"
     ]
    }
   ],
   "source": [
    "print(businesses[businesses['business_id'] == '5EvUIR4IzCWUOm0PsUZXjA']['stars'])"
   ]
  },
  {
   "cell_type": "markdown",
   "metadata": {},
   "source": [
    "## Merge the Data\n",
    "\n",
    "First model used left merge to preserve all business_id data: This was later changed as this caused a little bit of inaccurate results"
   ]
  },
  {
   "cell_type": "code",
   "execution_count": 12,
   "metadata": {},
   "outputs": [
    {
     "name": "stdout",
     "output_type": "stream",
     "text": [
      "188593\n"
     ]
    }
   ],
   "source": [
    "df = pd.merge(businesses, reviews, how='left', on='business_id')\n",
    "print(len(df))"
   ]
  },
  {
   "cell_type": "code",
   "execution_count": 13,
   "metadata": {
    "ExecuteTime": {
     "end_time": "2018-09-14T14:51:24.043166Z",
     "start_time": "2018-09-14T14:51:22.538823Z"
    }
   },
   "outputs": [],
   "source": [
    "df = pd.merge(df, users, how = 'left', on= 'business_id')\n",
    "df = pd.merge(df, checkins, how = 'left', on= 'business_id')\n",
    "df = pd.merge(df, tips, how = 'left', on= 'business_id')\n",
    "df = pd.merge(df, photos, how = 'left', on= 'business_id')"
   ]
  },
  {
   "cell_type": "markdown",
   "metadata": {},
   "source": [
    "## Clean the Data\n",
    "\n",
    "Dropping all data that is not continuous or quantitatively dependant to the stars of each resaurant."
   ]
  },
  {
   "cell_type": "code",
   "execution_count": 14,
   "metadata": {},
   "outputs": [],
   "source": [
    "features_to_remove = ['address','attributes','business_id','categories','city','hours','is_open','latitude','longitude','name','neighborhood','postal_code','state','time']\n",
    "df.drop(features_to_remove, axis = 1, inplace = True)"
   ]
  },
  {
   "cell_type": "markdown",
   "metadata": {},
   "source": [
    "Checking to see if there are any nulls."
   ]
  },
  {
   "cell_type": "code",
   "execution_count": 15,
   "metadata": {
    "ExecuteTime": {
     "end_time": "2018-09-14T14:51:24.649109Z",
     "start_time": "2018-09-14T14:51:24.581948Z"
    }
   },
   "outputs": [
    {
     "data": {
      "text/plain": [
       "alcohol?                      False\n",
       "good_for_kids                 False\n",
       "has_bike_parking              False\n",
       "has_wifi                      False\n",
       "price_range                   False\n",
       "review_count                  False\n",
       "stars                         False\n",
       "take_reservations             False\n",
       "takes_credit_cards            False\n",
       "average_review_age            False\n",
       "average_review_length         False\n",
       "average_review_sentiment      False\n",
       "number_cool_votes             False\n",
       "number_funny_votes            False\n",
       "number_useful_votes           False\n",
       "average_days_on_yelp          False\n",
       "average_number_fans           False\n",
       "average_number_friends        False\n",
       "average_number_years_elite    False\n",
       "average_review_count          False\n",
       "weekday_checkins               True\n",
       "weekend_checkins               True\n",
       "average_tip_length             True\n",
       "number_tips                    True\n",
       "average_caption_length         True\n",
       "number_pics                    True\n",
       "dtype: bool"
      ]
     },
     "execution_count": 15,
     "metadata": {},
     "output_type": "execute_result"
    }
   ],
   "source": [
    "df.isna().any()"
   ]
  },
  {
   "cell_type": "markdown",
   "metadata": {},
   "source": [
    "As you can see, there are a few columns with missing values. Since our dataset has no information recorded for some businesses in these columns, we will assume the Yelp pages did not display these features. "
   ]
  },
  {
   "cell_type": "code",
   "execution_count": 16,
   "metadata": {
    "ExecuteTime": {
     "end_time": "2018-09-14T14:51:24.661609Z",
     "start_time": "2018-09-14T14:51:24.650866Z"
    }
   },
   "outputs": [
    {
     "data": {
      "text/plain": [
       "alcohol?                      False\n",
       "good_for_kids                 False\n",
       "has_bike_parking              False\n",
       "has_wifi                      False\n",
       "price_range                   False\n",
       "review_count                  False\n",
       "stars                         False\n",
       "take_reservations             False\n",
       "takes_credit_cards            False\n",
       "average_review_age            False\n",
       "average_review_length         False\n",
       "average_review_sentiment      False\n",
       "number_cool_votes             False\n",
       "number_funny_votes            False\n",
       "number_useful_votes           False\n",
       "average_days_on_yelp          False\n",
       "average_number_fans           False\n",
       "average_number_friends        False\n",
       "average_number_years_elite    False\n",
       "average_review_count          False\n",
       "weekday_checkins              False\n",
       "weekend_checkins              False\n",
       "average_tip_length            False\n",
       "number_tips                   False\n",
       "average_caption_length        False\n",
       "number_pics                   False\n",
       "dtype: bool"
      ]
     },
     "execution_count": 16,
     "metadata": {},
     "output_type": "execute_result"
    }
   ],
   "source": [
    "df.fillna(0, inplace = True)\n",
    "df.isna().any()"
   ]
  },
  {
   "cell_type": "markdown",
   "metadata": {},
   "source": [
    "## Exploratory Analysis\n",
    "\n",
    "Printing the corrolations of each type in relation to stars"
   ]
  },
  {
   "cell_type": "code",
   "execution_count": 17,
   "metadata": {
    "ExecuteTime": {
     "end_time": "2018-09-14T14:51:24.968871Z",
     "start_time": "2018-09-14T14:51:24.725501Z"
    },
    "scrolled": false
   },
   "outputs": [
    {
     "name": "stdout",
     "output_type": "stream",
     "text": [
      "alcohol?                     -0.043332\n",
      "good_for_kids                -0.030382\n",
      "has_bike_parking              0.068084\n",
      "has_wifi                     -0.039857\n",
      "price_range                  -0.052565\n",
      "review_count                  0.032413\n",
      "stars                         1.000000\n",
      "take_reservations            -0.024486\n",
      "takes_credit_cards            0.037748\n",
      "average_review_age           -0.125645\n",
      "average_review_length        -0.277081\n",
      "average_review_sentiment      0.782187\n",
      "number_cool_votes             0.043375\n",
      "number_funny_votes            0.001320\n",
      "number_useful_votes          -0.000066\n",
      "average_days_on_yelp         -0.038061\n",
      "average_number_fans          -0.031141\n",
      "average_number_friends       -0.007629\n",
      "average_number_years_elite   -0.064419\n",
      "average_review_count         -0.066572\n",
      "weekday_checkins              0.004130\n",
      "weekend_checkins              0.007863\n",
      "average_tip_length           -0.052899\n",
      "number_tips                   0.014038\n",
      "average_caption_length        0.000040\n",
      "number_pics                   0.001727\n",
      "Name: stars, dtype: float64\n"
     ]
    }
   ],
   "source": [
    "print(df.corr().stars)"
   ]
  },
  {
   "cell_type": "code",
   "execution_count": 18,
   "metadata": {},
   "outputs": [
    {
     "data": {
      "text/plain": [
       "<Figure size 640x480 with 1 Axes>"
      ]
     },
     "metadata": {},
     "output_type": "display_data"
    }
   ],
   "source": [
    "from matplotlib import pyplot as plt\n",
    "\n",
    "# plot average_review_sentiment against stars here\n",
    "plt.scatter(df[['stars']], df[['average_review_sentiment']], alpha = .003)\n",
    "plt.show()\n"
   ]
  },
  {
   "cell_type": "code",
   "execution_count": 19,
   "metadata": {},
   "outputs": [
    {
     "data": {
      "image/png": "[encoded data removed]",
      "text/plain": [
       "<Figure size 432x288 with 1 Axes>"
      ]
     },
     "metadata": {
      "needs_background": "light"
     },
     "output_type": "display_data"
    }
   ],
   "source": [
    "# plot average_review_length against stars here\n",
    "plt.close('all')\n",
    "plt.scatter(df[['stars']], df[['average_review_length']], alpha = .002)\n",
    "plt.ylim(0, 2000)\n",
    "plt.show()"
   ]
  },
  {
   "cell_type": "code",
   "execution_count": 20,
   "metadata": {},
   "outputs": [
    {
     "data": {
      "image/png": "[encoded data removed]",
      "text/plain": [
       "<Figure size 432x288 with 1 Axes>"
      ]
     },
     "metadata": {
      "needs_background": "light"
     },
     "output_type": "display_data"
    }
   ],
   "source": [
    "# plot average_review_age against stars here\n",
    "plt.close('all')\n",
    "plt.scatter(df[['stars']], df[['average_review_age']], alpha = .002)\n",
    "plt.show()"
   ]
  },
  {
   "cell_type": "code",
   "execution_count": 21,
   "metadata": {},
   "outputs": [
    {
     "data": {
      "image/png": "[encoded data removed]",
      "text/plain": [
       "<Figure size 432x288 with 1 Axes>"
      ]
     },
     "metadata": {
      "needs_background": "light"
     },
     "output_type": "display_data"
    }
   ],
   "source": [
    "# plot number_funny_votes against stars here\n",
    "plt.close('all')\n",
    "plt.scatter(df[['stars']], df[['number_funny_votes']], alpha = .002)\n",
    "plt.ylim(0, 250)\n",
    "plt.show()"
   ]
  },
  {
   "cell_type": "markdown",
   "metadata": {},
   "source": [
    "## Data Selection"
   ]
  },
  {
   "cell_type": "code",
   "execution_count": 22,
   "metadata": {
    "ExecuteTime": {
     "end_time": "2018-09-14T14:51:57.953014Z",
     "start_time": "2018-09-14T14:51:57.945658Z"
    }
   },
   "outputs": [],
   "source": [
    "features = df[['average_review_length', 'average_review_age']]\n",
    "ratings = df[['stars']]"
   ]
  },
  {
   "cell_type": "markdown",
   "metadata": {},
   "source": [
    "## Split the Data into Training and Testing Sets"
   ]
  },
  {
   "cell_type": "code",
   "execution_count": 23,
   "metadata": {},
   "outputs": [],
   "source": [
    "from sklearn.model_selection import train_test_split\n",
    "\n",
    "X_train, X_test, Y_train, Y_test = train_test_split(features, ratings, train_size = .8, test_size = .2, random_state = 1)\n",
    "\n"
   ]
  },
  {
   "cell_type": "markdown",
   "metadata": {},
   "source": [
    "## Create and Train the Model"
   ]
  },
  {
   "cell_type": "code",
   "execution_count": 24,
   "metadata": {},
   "outputs": [
    {
     "data": {
      "text/plain": [
       "LinearRegression(copy_X=True, fit_intercept=True, n_jobs=None,\n",
       "         normalize=False)"
      ]
     },
     "execution_count": 24,
     "metadata": {},
     "output_type": "execute_result"
    }
   ],
   "source": [
    "from sklearn.linear_model import LinearRegression\n",
    "\n",
    "linear_model = LinearRegression()\n",
    "linear_model.fit(X_train, Y_train)\n"
   ]
  },
  {
   "cell_type": "markdown",
   "metadata": {},
   "source": [
    "## Evaluate and Understand the Model"
   ]
  },
  {
   "cell_type": "code",
   "execution_count": 25,
   "metadata": {
    "ExecuteTime": {
     "end_time": "2018-09-14T14:51:58.631827Z",
     "start_time": "2018-09-14T14:51:58.619225Z"
    }
   },
   "outputs": [
    {
     "name": "stdout",
     "output_type": "stream",
     "text": [
      "R^2: \n",
      "0.08250309566544889\n",
      "Error: \n",
      "0.08083081210060561\n"
     ]
    }
   ],
   "source": [
    "print(\"R^2: \")\n",
    "print(linear_model.score(X_train, Y_train))\n",
    "\n",
    "print(\"Error: \")\n",
    "print(linear_model.score(X_test, Y_test))"
   ]
  },
  {
   "cell_type": "markdown",
   "metadata": {},
   "source": [
    "As you can see that these feature give us a poor result. I will later be experimenting with other features to get a better prediction on the star predictor."
   ]
  },
  {
   "cell_type": "code",
   "execution_count": 26,
   "metadata": {},
   "outputs": [
    {
     "data": {
      "text/plain": [
       "[('average_review_length', array([-0.00099772, -0.00011622]))]"
      ]
     },
     "execution_count": 26,
     "metadata": {},
     "output_type": "execute_result"
    }
   ],
   "source": [
    "sorted(list(zip(['average_review_length','average_review_age'],linear_model.coef_)),key = lambda x: abs(x[1]),reverse=True)"
   ]
  },
  {
   "cell_type": "markdown",
   "metadata": {},
   "source": [
    "Lastly we can calculate the predicted Yelp ratings for our testing data and compare them to their actual Yelp ratings."
   ]
  },
  {
   "cell_type": "code",
   "execution_count": 27,
   "metadata": {
    "ExecuteTime": {
     "end_time": "2018-09-14T14:51:58.656842Z",
     "start_time": "2018-09-14T14:51:58.653453Z"
    }
   },
   "outputs": [
    {
     "data": {
      "image/png": "[encoded data removed]",
      "text/plain": [
       "<Figure size 432x288 with 1 Axes>"
      ]
     },
     "metadata": {
      "needs_background": "light"
     },
     "output_type": "display_data"
    }
   ],
   "source": [
    "y_predicted = linear_model.predict(X_test)\n",
    "plt.close('all')\n",
    "plt.scatter(Y_test, y_predicted, alpha = .01)\n",
    "plt.xlabel(\"Test\")\n",
    "plt.ylabel(\"Prediction\")\n",
    "plt.show()"
   ]
  },
  {
   "cell_type": "markdown",
   "metadata": {},
   "source": [
    "## Define Different Subsets of Data\n",
    "\n",
    "This section is to create other linear regression combinations to maximize the score of the model."
   ]
  },
  {
   "cell_type": "code",
   "execution_count": 28,
   "metadata": {},
   "outputs": [
    {
     "data": {
      "image/png": "[encoded data removed]",
      "text/plain": [
       "<Figure size 432x288 with 1 Axes>"
      ]
     },
     "metadata": {
      "needs_background": "light"
     },
     "output_type": "display_data"
    },
    {
     "name": "stdout",
     "output_type": "stream",
     "text": [
      "R^2: \n",
      "0.6130082233594101\n",
      "Error: \n",
      "0.6069749619452953\n"
     ]
    }
   ],
   "source": [
    "# subset of only average review sentiment\n",
    "sentiment = ['average_review_sentiment']\n",
    "plt.close('all')\n",
    "plt.scatter(df[['stars']], df[sentiment], alpha = .02)\n",
    "plt.show()\n",
    "\n",
    "X_train2, X_test2, Y_train2, Y_test2 = train_test_split(df[sentiment], df['stars'], random_state = 4, train_size = .8, test_size = .2)\n",
    "\n",
    "linear_model2 = LinearRegression()\n",
    "linear_model2.fit(X_train2, Y_train2)\n",
    "print(\"R^2: \")\n",
    "print(linear_model2.score(X_train2, Y_train2))\n",
    "\n",
    "print(\"Error: \")\n",
    "print(linear_model2.score(X_test2, Y_test2))"
   ]
  },
  {
   "cell_type": "code",
   "execution_count": 29,
   "metadata": {},
   "outputs": [
    {
     "name": "stdout",
     "output_type": "stream",
     "text": [
      "R^2: \n",
      "0.011538560437288736\n",
      "Error: \n",
      "0.013007920119425864\n"
     ]
    }
   ],
   "source": [
    "# subset of all features that have a response range [0,1]\n",
    "binary_features = ['alcohol?','has_bike_parking','takes_credit_cards','good_for_kids','take_reservations','has_wifi']\n",
    "\n",
    "X_train3, X_test3, Y_train3, Y_test3 = train_test_split(df[binary_features], df['stars'], random_state = 4, train_size = .8, test_size = .2)\n",
    "\n",
    "linear_model3 = LinearRegression()\n",
    "linear_model3.fit(X_train3, Y_train3)\n",
    "print(\"R^2: \")\n",
    "print(linear_model3.score(X_train3, Y_train3))\n",
    "\n",
    "print(\"Error: \")\n",
    "print(linear_model3.score(X_test3, Y_test3))"
   ]
  },
  {
   "cell_type": "code",
   "execution_count": 30,
   "metadata": {},
   "outputs": [
    {
     "name": "stdout",
     "output_type": "stream",
     "text": [
      "R^2: \n",
      "0.6739706858365202\n",
      "Error: \n",
      "0.6695066748501262\n"
     ]
    }
   ],
   "source": [
    "# subset of all features that vary on a greater range than [0,1]\n",
    "numeric_features = ['review_count','price_range','average_caption_length','number_pics','average_review_age','average_review_length','average_review_sentiment','number_funny_votes','number_cool_votes','number_useful_votes','average_tip_length','number_tips','average_number_friends','average_days_on_yelp','average_number_fans','average_review_count','average_number_years_elite','weekday_checkins','weekend_checkins']\n",
    "\n",
    "X_train4, X_test4, Y_train4, Y_test4 = train_test_split(df[numeric_features], df['stars'], random_state = 4, train_size = .8, test_size = .2)\n",
    "\n",
    "linear_model4 = LinearRegression()\n",
    "linear_model4.fit(X_train4, Y_train4)\n",
    "print(\"R^2: \")\n",
    "print(linear_model4.score(X_train4, Y_train4))\n",
    "\n",
    "print(\"Error: \")\n",
    "print(linear_model4.score(X_test4, Y_test4))"
   ]
  },
  {
   "cell_type": "code",
   "execution_count": 31,
   "metadata": {},
   "outputs": [
    {
     "name": "stdout",
     "output_type": "stream",
     "text": [
      "R^2: \n",
      "0.6810100245210478\n",
      "Error: \n",
      "0.677345556367648\n"
     ]
    }
   ],
   "source": [
    "# all features\n",
    "all_features = binary_features + numeric_features\n",
    "\n",
    "X_train5, X_test5, Y_train5, Y_test5 = train_test_split(df[all_features], df['stars'], random_state = 4, train_size = .8, test_size = .2)\n",
    "\n",
    "linear_model5 = LinearRegression()\n",
    "linear_model5.fit(X_train5, Y_train5)\n",
    "print(\"R^2: \")\n",
    "print(linear_model5.score(X_train5, Y_train5))\n",
    "\n",
    "print(\"Error: \")\n",
    "print(linear_model5.score(X_test5, Y_test5))"
   ]
  },
  {
   "cell_type": "code",
   "execution_count": 32,
   "metadata": {},
   "outputs": [
    {
     "name": "stdout",
     "output_type": "stream",
     "text": [
      "alcohol?                      False\n",
      "good_for_kids                 False\n",
      "has_bike_parking              False\n",
      "has_wifi                      False\n",
      "price_range                   False\n",
      "review_count                  False\n",
      "stars                         False\n",
      "take_reservations             False\n",
      "takes_credit_cards            False\n",
      "average_review_age            False\n",
      "average_review_length         False\n",
      "average_review_sentiment      False\n",
      "number_cool_votes             False\n",
      "number_funny_votes            False\n",
      "number_useful_votes           False\n",
      "average_days_on_yelp          False\n",
      "average_number_fans           False\n",
      "average_number_friends        False\n",
      "average_number_years_elite    False\n",
      "average_review_count          False\n",
      "weekday_checkins              False\n",
      "weekend_checkins              False\n",
      "average_tip_length            False\n",
      "number_tips                   False\n",
      "average_caption_length        False\n",
      "number_pics                   False\n",
      "dtype: bool\n",
      "R^2: \n",
      "0.7301025692896536\n",
      "Error: \n",
      "0.7322734335074711\n",
      "                         index     stars\n",
      "0                     alcohol?  0.050019\n",
      "1                good_for_kids -0.065822\n",
      "2             has_bike_parking  0.110820\n",
      "3                     has_wifi  0.046172\n",
      "4                  price_range  0.065944\n",
      "5                 review_count  0.133085\n",
      "6                        stars  1.000000\n",
      "7            take_reservations  0.068549\n",
      "8           takes_credit_cards -0.073570\n",
      "9           average_review_age -0.140808\n",
      "10       average_review_length -0.109172\n",
      "11    average_review_sentiment  0.812657\n",
      "12           number_cool_votes  0.150486\n",
      "13          number_funny_votes  0.048075\n",
      "14         number_useful_votes  0.094877\n",
      "15        average_days_on_yelp -0.011864\n",
      "16         average_number_fans -0.002684\n",
      "17      average_number_friends  0.010631\n",
      "18  average_number_years_elite -0.021378\n",
      "19        average_review_count -0.059067\n",
      "20            weekday_checkins  0.085726\n",
      "21            weekend_checkins  0.082455\n",
      "22          average_tip_length -0.039051\n",
      "23                 number_tips  0.113101\n",
      "24      average_caption_length  0.081561\n",
      "25                 number_pics  0.060608\n"
     ]
    }
   ],
   "source": [
    "# new approach (use inner loops instead)\n",
    "df2 = pd.merge(businesses, reviews, how='inner', on='business_id')\n",
    "df2 = pd.merge(df2, users, how = 'inner', on= 'business_id')\n",
    "df2 = pd.merge(df2, checkins, how = 'inner', on= 'business_id')\n",
    "df2 = pd.merge(df2, tips, how = 'inner', on= 'business_id')\n",
    "df2 = pd.merge(df2, photos, how = 'inner', on= 'business_id')\n",
    "features_to_remove = ['address','attributes','business_id','categories','city','hours','is_open','latitude','longitude','name','neighborhood','postal_code','state','time']\n",
    "df2.drop(features_to_remove, axis = 1, inplace = True)\n",
    "print(df2.isna().any())\n",
    "\n",
    "feature_subset = ['average_review_sentiment', 'average_review_length', 'number_cool_votes', 'average_review_age', 'review_count', 'number_tips', 'number_useful_votes', 'weekday_checkins', 'weekend_checkins', 'average_caption_length', 'takes_credit_cards', 'good_for_kids', 'price_range', 'take_reservations']\n",
    "\n",
    "X_train6, X_test6, Y_train6, Y_test6 = train_test_split(df2[all_features], df2['stars'], random_state = 4, train_size = .8, test_size = .2)\n",
    "\n",
    "linear_model6 = LinearRegression()\n",
    "linear_model6.fit(X_train6, Y_train6)\n",
    "print(\"R^2: \")\n",
    "print(linear_model6.score(X_train6, Y_train6))\n",
    "\n",
    "print(\"Error: \")\n",
    "print(linear_model6.score(X_test6, Y_test6))\n",
    "\n",
    "df_temp = df2.corr().stars.reset_index()\n",
    "print(df_temp)"
   ]
  },
  {
   "cell_type": "markdown",
   "metadata": {},
   "source": [
    "## Further Modeling"
   ]
  },
  {
   "cell_type": "markdown",
   "metadata": {},
   "source": [
    "Now that we have lists of different feature subsets, we can create new models from them. The last subset was the most accurate with a R^2 value of .73.\n",
    "This will be the primary predictor as the corrolation is higher under this model compared to the others.\n",
    "\n",
    "The function below is a prototype function to compare different features.\n",
    "I later update the function for the improved linear regression model found in the previous step."
   ]
  },
  {
   "cell_type": "code",
   "execution_count": 33,
   "metadata": {},
   "outputs": [],
   "source": [
    "import numpy as np\n",
    "\n",
    "# take a list of features to model as a parameter\n",
    "def model_these_features(feature_list):\n",
    "    \n",
    "    # \n",
    "    ratings = df.loc[:,'stars']\n",
    "    features = df.loc[:,feature_list]\n",
    "    \n",
    "    # \n",
    "    X_train, X_test, y_train, y_test = train_test_split(features, ratings, test_size = 0.2, random_state = 1)\n",
    "    \n",
    "    # don't worry too much about these lines, just know that they allow the model to work when\n",
    "    # we model on just one feature instead of multiple features. Trust us on this one :)\n",
    "    if len(X_train.shape) < 2:\n",
    "        X_train = np.array(X_train).reshape(-1,1)\n",
    "        X_test = np.array(X_test).reshape(-1,1)\n",
    "    \n",
    "    # \n",
    "    model = LinearRegression()\n",
    "    model.fit(X_train,y_train)\n",
    "    \n",
    "    # \n",
    "    print('Train Score:', model.score(X_train,y_train))\n",
    "    print('Test Score:', model.score(X_test,y_test))\n",
    "    \n",
    "    # print the model features and their corresponding coefficients, from most predictive to least predictive\n",
    "    print(sorted(list(zip(feature_list,model.coef_)),key = lambda x: abs(x[1]),reverse=True))\n",
    "    \n",
    "    # \n",
    "    y_predicted = model.predict(X_test)\n",
    "    \n",
    "    # \n",
    "    plt.scatter(y_test,y_predicted)\n",
    "    plt.xlabel('Yelp Rating')\n",
    "    plt.ylabel('Predicted Yelp Rating')\n",
    "    plt.ylim(1,5)\n",
    "    plt.show()"
   ]
  },
  {
   "cell_type": "code",
   "execution_count": 34,
   "metadata": {},
   "outputs": [
    {
     "name": "stdout",
     "output_type": "stream",
     "text": [
      "Train Score: 0.6118980950438655\n",
      "Test Score: 0.6114021046919492\n",
      "[('average_review_sentiment', 2.3033908433749586)]\n"
     ]
    },
    {
     "data": {
      "image/png": "[encoded data removed]",
      "text/plain": [
       "<Figure size 432x288 with 1 Axes>"
      ]
     },
     "metadata": {
      "needs_background": "light"
     },
     "output_type": "display_data"
    }
   ],
   "source": [
    "# create a model on sentiment here\n",
    "model_these_features(sentiment)"
   ]
  },
  {
   "cell_type": "code",
   "execution_count": 35,
   "metadata": {},
   "outputs": [
    {
     "name": "stdout",
     "output_type": "stream",
     "text": [
      "Train Score: 0.012223180709591164\n",
      "Test Score: 0.010119542202269072\n",
      "[('has_bike_parking', 0.19003008208039676), ('alcohol?', -0.14549670708138332), ('has_wifi', -0.13187397577762547), ('good_for_kids', -0.08632485990337231), ('takes_credit_cards', 0.07175536492195614), ('take_reservations', 0.04526558530451594)]\n"
     ]
    },
    {
     "data": {
      "image/png": "[encoded data removed]",
      "text/plain": [
       "<Figure size 432x288 with 1 Axes>"
      ]
     },
     "metadata": {
      "needs_background": "light"
     },
     "output_type": "display_data"
    }
   ],
   "source": [
    "# create a model on all binary features here\n",
    "model_these_features(binary_features)"
   ]
  },
  {
   "cell_type": "code",
   "execution_count": 36,
   "metadata": {},
   "outputs": [
    {
     "name": "stdout",
     "output_type": "stream",
     "text": [
      "Train Score: 0.673499259376666\n",
      "Test Score: 0.6713318798120138\n",
      "[('average_review_sentiment', 2.2721076642097686), ('price_range', -0.0804608096270259), ('average_number_years_elite', -0.07190366288054195), ('average_caption_length', -0.00334706600778316), ('number_pics', -0.0029565028128950613), ('number_tips', -0.0015953050789039144), ('number_cool_votes', 0.0011468839227082779), ('average_number_fans', 0.0010510602097444858), ('average_review_length', -0.0005813655692094847), ('average_tip_length', -0.0005322032063458541), ('number_useful_votes', -0.00023203784758702592), ('average_review_count', -0.00022431702895061526), ('average_review_age', -0.0001693060816507226), ('average_days_on_yelp', 0.00012878025876700503), ('weekday_checkins', 5.918580754475574e-05), ('weekend_checkins', -5.518176206986478e-05), ('average_number_friends', 4.826992111594799e-05), ('review_count', -3.48348376378989e-05), ('number_funny_votes', -7.884395674183897e-06)]\n"
     ]
    },
    {
     "data": {
      "image/png": "[encoded data removed]",
      "text/plain": [
       "<Figure size 432x288 with 1 Axes>"
      ]
     },
     "metadata": {
      "needs_background": "light"
     },
     "output_type": "display_data"
    }
   ],
   "source": [
    "# create a model on all numeric features here\n",
    "model_these_features(numeric_features)"
   ]
  },
  {
   "cell_type": "code",
   "execution_count": 37,
   "metadata": {},
   "outputs": [
    {
     "name": "stdout",
     "output_type": "stream",
     "text": [
      "Train Score: 0.6807828861895333\n",
      "Test Score: 0.6782129045869245\n",
      "[('average_review_sentiment', 2.280845699662378), ('alcohol?', -0.14991498593470778), ('has_wifi', -0.12155382629262777), ('good_for_kids', -0.11807814422012647), ('price_range', -0.06486730150041178), ('average_number_years_elite', -0.0627893971389538), ('has_bike_parking', 0.027296969912285574), ('takes_credit_cards', 0.02445183785362615), ('take_reservations', 0.014134559172970311), ('number_pics', -0.0013133612300815713), ('average_number_fans', 0.0010267986822657448), ('number_cool_votes', 0.000972372273441118), ('number_tips', -0.0008546563320877247), ('average_caption_length', -0.0006472749798191067), ('average_review_length', -0.0005896257920272376), ('average_tip_length', -0.00042052175034057535), ('number_useful_votes', -0.00027150641256160215), ('average_review_count', -0.00023398356902509327), ('average_review_age', -0.00015776544111326904), ('average_days_on_yelp', 0.00012326147662885747), ('review_count', 0.00010112259377384992), ('weekend_checkins', -9.239617469645031e-05), ('weekday_checkins', 6.1539091231461e-05), ('number_funny_votes', 4.8479351025072536e-05), ('average_number_friends', 2.0695840373717654e-05)]\n"
     ]
    },
    {
     "data": {
      "image/png": "[encoded data removed]",
      "text/plain": [
       "<Figure size 432x288 with 1 Axes>"
      ]
     },
     "metadata": {
      "needs_background": "light"
     },
     "output_type": "display_data"
    }
   ],
   "source": [
    "# create a model on all features here\n",
    "model_these_features(all_features)"
   ]
  },
  {
   "cell_type": "code",
   "execution_count": 38,
   "metadata": {},
   "outputs": [
    {
     "name": "stdout",
     "output_type": "stream",
     "text": [
      "Train Score: 0.7327779918864505\n",
      "Test Score: 0.7218067386865297\n",
      "[('average_review_sentiment', 2.509615393984438), ('alcohol?', -0.08950697790078399), ('takes_credit_cards', -0.04726690222586274), ('has_wifi', -0.035216903899913596), ('good_for_kids', -0.03504271840359211), ('has_bike_parking', 0.030198023627126938), ('take_reservations', 0.014318113630989603), ('average_number_years_elite', -0.012217157756917627), ('price_range', 0.008920227371362121), ('average_number_fans', 0.002258097850241656), ('average_review_length', -0.0008432360808019792), ('number_cool_votes', 0.000614511597747489), ('average_caption_length', 0.0004428273677087432), ('average_review_count', -0.0003920608166051522), ('number_tips', 0.000338776251693516), ('average_tip_length', -0.0002478656910649083), ('average_review_age', -0.0001739245045782306), ('review_count', -0.00017005462041057683), ('average_days_on_yelp', 0.00015026777412400873), ('weekend_checkins', -0.0001156700526677812), ('weekday_checkins', 8.819629663134645e-05), ('number_pics', -8.143250160371534e-05), ('number_useful_votes', -6.136372739685343e-05), ('number_funny_votes', -5.409564764551677e-05), ('average_number_friends', -1.8106756207232052e-05)]\n"
     ]
    },
    {
     "data": {
      "image/png": "[encoded data removed]",
      "text/plain": [
       "<Figure size 432x288 with 1 Axes>"
      ]
     },
     "metadata": {
      "needs_background": "light"
     },
     "output_type": "display_data"
    }
   ],
   "source": [
    "# create a model on your feature subset here\n",
    "def model_these_features2(feature_list):\n",
    "    \n",
    "    # \n",
    "    ratings = df2.loc[:,'stars']\n",
    "    features = df2.loc[:,feature_list]\n",
    "    \n",
    "    # \n",
    "    X_train, X_test, y_train, y_test = train_test_split(features, ratings, test_size = 0.2, random_state = 1)\n",
    "    \n",
    "    # don't worry too much about these lines, just know that they allow the model to work when\n",
    "    # we model on just one feature instead of multiple features. Trust us on this one :)\n",
    "    if len(X_train.shape) < 2:\n",
    "        X_train = np.array(X_train).reshape(-1,1)\n",
    "        X_test = np.array(X_test).reshape(-1,1)\n",
    "    \n",
    "    # \n",
    "    model = LinearRegression()\n",
    "    model.fit(X_train,y_train)\n",
    "    \n",
    "    # \n",
    "    print('Train Score:', model.score(X_train,y_train))\n",
    "    print('Test Score:', model.score(X_test,y_test))\n",
    "    \n",
    "    # print the model features and their corresponding coefficients, from most predictive to least predictive\n",
    "    print(sorted(list(zip(feature_list,model.coef_)),key = lambda x: abs(x[1]),reverse=True))\n",
    "    \n",
    "    # \n",
    "    y_predicted = model.predict(X_test)\n",
    "    \n",
    "    # \n",
    "    plt.scatter(y_test,y_predicted)\n",
    "    plt.xlabel('Yelp Rating')\n",
    "    plt.ylabel('Predicted Yelp Rating')\n",
    "    plt.ylim(1,5)\n",
    "    plt.show()\n",
    "model_these_features2(all_features)"
   ]
  },
  {
   "cell_type": "markdown",
   "metadata": {},
   "source": [
    "## Example for the Predictor\n"
   ]
  },
  {
   "cell_type": "code",
   "execution_count": 39,
   "metadata": {
    "ExecuteTime": {
     "end_time": "2018-09-14T14:52:25.658575Z",
     "start_time": "2018-09-14T14:52:25.654756Z"
    }
   },
   "outputs": [
    {
     "name": "stdout",
     "output_type": "stream",
     "text": [
      "['alcohol?', 'has_bike_parking', 'takes_credit_cards', 'good_for_kids', 'take_reservations', 'has_wifi', 'review_count', 'price_range', 'average_caption_length', 'number_pics', 'average_review_age', 'average_review_length', 'average_review_sentiment', 'number_funny_votes', 'number_cool_votes', 'number_useful_votes', 'average_tip_length', 'number_tips', 'average_number_friends', 'average_days_on_yelp', 'average_number_fans', 'average_review_count', 'average_number_years_elite', 'weekday_checkins', 'weekend_checkins']\n"
     ]
    }
   ],
   "source": [
    "print(all_features)"
   ]
  },
  {
   "cell_type": "code",
   "execution_count": 40,
   "metadata": {},
   "outputs": [
    {
     "data": {
      "text/plain": [
       "LinearRegression(copy_X=True, fit_intercept=True, n_jobs=None,\n",
       "         normalize=False)"
      ]
     },
     "execution_count": 40,
     "metadata": {},
     "output_type": "execute_result"
    }
   ],
   "source": [
    "features = df2.loc[:,all_features]\n",
    "ratings = df2.loc[:,'stars']\n",
    "X_train, X_test, y_train, y_test = train_test_split(features, ratings, test_size = 0.2, random_state = 1)\n",
    "model = LinearRegression()\n",
    "model.fit(X_train,y_train)"
   ]
  },
  {
   "cell_type": "code",
   "execution_count": 41,
   "metadata": {},
   "outputs": [
    {
     "data": {
      "text/html": [
       "<div>\n",
       "<style scoped>\n",
       "    .dataframe tbody tr th:only-of-type {\n",
       "        vertical-align: middle;\n",
       "    }\n",
       "\n",
       "    .dataframe tbody tr th {\n",
       "        vertical-align: top;\n",
       "    }\n",
       "\n",
       "    .dataframe thead th {\n",
       "        text-align: right;\n",
       "    }\n",
       "</style>\n",
       "<table border=\"1\" class=\"dataframe\">\n",
       "  <thead>\n",
       "    <tr style=\"text-align: right;\">\n",
       "      <th></th>\n",
       "      <th>Feature</th>\n",
       "      <th>Mean</th>\n",
       "      <th>Min</th>\n",
       "      <th>Max</th>\n",
       "    </tr>\n",
       "  </thead>\n",
       "  <tbody>\n",
       "    <tr>\n",
       "      <th>0</th>\n",
       "      <td>alcohol?</td>\n",
       "      <td>0.537129</td>\n",
       "      <td>0.000000</td>\n",
       "      <td>1.000000</td>\n",
       "    </tr>\n",
       "    <tr>\n",
       "      <th>1</th>\n",
       "      <td>has_bike_parking</td>\n",
       "      <td>0.659817</td>\n",
       "      <td>0.000000</td>\n",
       "      <td>1.000000</td>\n",
       "    </tr>\n",
       "    <tr>\n",
       "      <th>2</th>\n",
       "      <td>takes_credit_cards</td>\n",
       "      <td>0.878041</td>\n",
       "      <td>0.000000</td>\n",
       "      <td>1.000000</td>\n",
       "    </tr>\n",
       "    <tr>\n",
       "      <th>3</th>\n",
       "      <td>good_for_kids</td>\n",
       "      <td>0.758373</td>\n",
       "      <td>0.000000</td>\n",
       "      <td>1.000000</td>\n",
       "    </tr>\n",
       "    <tr>\n",
       "      <th>4</th>\n",
       "      <td>take_reservations</td>\n",
       "      <td>0.419685</td>\n",
       "      <td>0.000000</td>\n",
       "      <td>1.000000</td>\n",
       "    </tr>\n",
       "    <tr>\n",
       "      <th>5</th>\n",
       "      <td>has_wifi</td>\n",
       "      <td>0.455104</td>\n",
       "      <td>0.000000</td>\n",
       "      <td>1.000000</td>\n",
       "    </tr>\n",
       "    <tr>\n",
       "      <th>6</th>\n",
       "      <td>review_count</td>\n",
       "      <td>109.480896</td>\n",
       "      <td>3.000000</td>\n",
       "      <td>7968.000000</td>\n",
       "    </tr>\n",
       "    <tr>\n",
       "      <th>7</th>\n",
       "      <td>price_range</td>\n",
       "      <td>1.682755</td>\n",
       "      <td>0.000000</td>\n",
       "      <td>4.000000</td>\n",
       "    </tr>\n",
       "    <tr>\n",
       "      <th>8</th>\n",
       "      <td>average_caption_length</td>\n",
       "      <td>16.511708</td>\n",
       "      <td>0.000000</td>\n",
       "      <td>140.000000</td>\n",
       "    </tr>\n",
       "    <tr>\n",
       "      <th>9</th>\n",
       "      <td>number_pics</td>\n",
       "      <td>8.895967</td>\n",
       "      <td>1.000000</td>\n",
       "      <td>1150.000000</td>\n",
       "    </tr>\n",
       "    <tr>\n",
       "      <th>10</th>\n",
       "      <td>average_review_age</td>\n",
       "      <td>1126.149727</td>\n",
       "      <td>72.133333</td>\n",
       "      <td>4165.333333</td>\n",
       "    </tr>\n",
       "    <tr>\n",
       "      <th>11</th>\n",
       "      <td>average_review_length</td>\n",
       "      <td>575.063785</td>\n",
       "      <td>118.666667</td>\n",
       "      <td>2016.500000</td>\n",
       "    </tr>\n",
       "    <tr>\n",
       "      <th>12</th>\n",
       "      <td>average_review_sentiment</td>\n",
       "      <td>0.620177</td>\n",
       "      <td>-0.962133</td>\n",
       "      <td>0.993200</td>\n",
       "    </tr>\n",
       "    <tr>\n",
       "      <th>13</th>\n",
       "      <td>number_funny_votes</td>\n",
       "      <td>51.843519</td>\n",
       "      <td>0.000000</td>\n",
       "      <td>36822.000000</td>\n",
       "    </tr>\n",
       "    <tr>\n",
       "      <th>14</th>\n",
       "      <td>number_cool_votes</td>\n",
       "      <td>64.826324</td>\n",
       "      <td>0.000000</td>\n",
       "      <td>6572.000000</td>\n",
       "    </tr>\n",
       "    <tr>\n",
       "      <th>15</th>\n",
       "      <td>number_useful_votes</td>\n",
       "      <td>124.753394</td>\n",
       "      <td>0.000000</td>\n",
       "      <td>38357.000000</td>\n",
       "    </tr>\n",
       "    <tr>\n",
       "      <th>16</th>\n",
       "      <td>average_tip_length</td>\n",
       "      <td>65.004327</td>\n",
       "      <td>1.000000</td>\n",
       "      <td>500.000000</td>\n",
       "    </tr>\n",
       "    <tr>\n",
       "      <th>17</th>\n",
       "      <td>number_tips</td>\n",
       "      <td>22.829112</td>\n",
       "      <td>1.000000</td>\n",
       "      <td>1492.000000</td>\n",
       "    </tr>\n",
       "    <tr>\n",
       "      <th>18</th>\n",
       "      <td>average_number_friends</td>\n",
       "      <td>107.892063</td>\n",
       "      <td>1.000000</td>\n",
       "      <td>2070.666667</td>\n",
       "    </tr>\n",
       "    <tr>\n",
       "      <th>19</th>\n",
       "      <td>average_days_on_yelp</td>\n",
       "      <td>1999.914667</td>\n",
       "      <td>197.333333</td>\n",
       "      <td>4204.666667</td>\n",
       "    </tr>\n",
       "    <tr>\n",
       "      <th>20</th>\n",
       "      <td>average_number_fans</td>\n",
       "      <td>12.124955</td>\n",
       "      <td>0.000000</td>\n",
       "      <td>463.904762</td>\n",
       "    </tr>\n",
       "    <tr>\n",
       "      <th>21</th>\n",
       "      <td>average_review_count</td>\n",
       "      <td>131.179271</td>\n",
       "      <td>1.666667</td>\n",
       "      <td>3100.000000</td>\n",
       "    </tr>\n",
       "    <tr>\n",
       "      <th>22</th>\n",
       "      <td>average_number_years_elite</td>\n",
       "      <td>1.100809</td>\n",
       "      <td>0.000000</td>\n",
       "      <td>9.000000</td>\n",
       "    </tr>\n",
       "    <tr>\n",
       "      <th>23</th>\n",
       "      <td>weekday_checkins</td>\n",
       "      <td>145.813411</td>\n",
       "      <td>0.000000</td>\n",
       "      <td>18506.000000</td>\n",
       "    </tr>\n",
       "    <tr>\n",
       "      <th>24</th>\n",
       "      <td>weekend_checkins</td>\n",
       "      <td>175.903369</td>\n",
       "      <td>0.000000</td>\n",
       "      <td>26910.000000</td>\n",
       "    </tr>\n",
       "  </tbody>\n",
       "</table>\n",
       "</div>"
      ],
      "text/plain": [
       "                       Feature         Mean         Min           Max\n",
       "0                     alcohol?     0.537129    0.000000      1.000000\n",
       "1             has_bike_parking     0.659817    0.000000      1.000000\n",
       "2           takes_credit_cards     0.878041    0.000000      1.000000\n",
       "3                good_for_kids     0.758373    0.000000      1.000000\n",
       "4            take_reservations     0.419685    0.000000      1.000000\n",
       "5                     has_wifi     0.455104    0.000000      1.000000\n",
       "6                 review_count   109.480896    3.000000   7968.000000\n",
       "7                  price_range     1.682755    0.000000      4.000000\n",
       "8       average_caption_length    16.511708    0.000000    140.000000\n",
       "9                  number_pics     8.895967    1.000000   1150.000000\n",
       "10          average_review_age  1126.149727   72.133333   4165.333333\n",
       "11       average_review_length   575.063785  118.666667   2016.500000\n",
       "12    average_review_sentiment     0.620177   -0.962133      0.993200\n",
       "13          number_funny_votes    51.843519    0.000000  36822.000000\n",
       "14           number_cool_votes    64.826324    0.000000   6572.000000\n",
       "15         number_useful_votes   124.753394    0.000000  38357.000000\n",
       "16          average_tip_length    65.004327    1.000000    500.000000\n",
       "17                 number_tips    22.829112    1.000000   1492.000000\n",
       "18      average_number_friends   107.892063    1.000000   2070.666667\n",
       "19        average_days_on_yelp  1999.914667  197.333333   4204.666667\n",
       "20         average_number_fans    12.124955    0.000000    463.904762\n",
       "21        average_review_count   131.179271    1.666667   3100.000000\n",
       "22  average_number_years_elite     1.100809    0.000000      9.000000\n",
       "23            weekday_checkins   145.813411    0.000000  18506.000000\n",
       "24            weekend_checkins   175.903369    0.000000  26910.000000"
      ]
     },
     "execution_count": 41,
     "metadata": {},
     "output_type": "execute_result"
    }
   ],
   "source": [
    "pd.DataFrame(list(zip(features.columns,features.describe().loc['mean'],features.describe().loc['min'],features.describe().loc['max'])),columns=['Feature','Mean','Min','Max'])"
   ]
  },
  {
   "cell_type": "code",
   "execution_count": 42,
   "metadata": {
    "ExecuteTime": {
     "end_time": "2018-09-13T18:35:02.243266Z",
     "start_time": "2018-09-13T18:34:39.238Z"
    }
   },
   "outputs": [],
   "source": [
    "example = np.array([0,1,1,1,1,1,10,2,3,10,10,1200,0.9,3,6,5,50,3,50,1800,12,123,0.5,0,0]).reshape(1,-1)"
   ]
  },
  {
   "cell_type": "code",
   "execution_count": 43,
   "metadata": {
    "ExecuteTime": {
     "end_time": "2018-09-13T18:35:02.244175Z",
     "start_time": "2018-09-13T18:34:39.239Z"
    }
   },
   "outputs": [
    {
     "data": {
      "text/plain": [
       "array([3.93753296])"
      ]
     },
     "execution_count": 43,
     "metadata": {},
     "output_type": "execute_result"
    }
   ],
   "source": [
    "model.predict(example)"
   ]
  },
  {
   "cell_type": "markdown",
   "metadata": {},
   "source": [
    "This example restaurant is predicted to have a 4 star rating on yelp."
   ]
  }
 ],
 "metadata": {
  "kernelspec": {
   "display_name": "Python 3",
   "language": "python",
   "name": "python3"
  },
  "language_info": {
   "codemirror_mode": {
    "name": "ipython",
    "version": 3
   },
   "file_extension": ".py",
   "mimetype": "text/x-python",
   "name": "python",
   "nbconvert_exporter": "python",
   "pygments_lexer": "ipython3",
   "version": "3.7.1"
  }
 },
 "nbformat": 4,
 "nbformat_minor": 2
}
